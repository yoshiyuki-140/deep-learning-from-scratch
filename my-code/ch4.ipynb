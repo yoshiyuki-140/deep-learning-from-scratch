{
 "cells": [
  {
   "cell_type": "markdown",
   "metadata": {},
   "source": [
    "# 損失関数"
   ]
  },
  {
   "cell_type": "code",
   "execution_count": 52,
   "metadata": {},
   "outputs": [],
   "source": [
    "import numpy as np\n",
    "\n",
    "# 二乗和誤差\n",
    "\n",
    "\n",
    "def mean_squared_error(y, t):\n",
    "    return 0.5 * np.sum((y - t) ** 2)"
   ]
  },
  {
   "cell_type": "code",
   "execution_count": 53,
   "metadata": {},
   "outputs": [
    {
     "name": "stdout",
     "output_type": "stream",
     "text": [
      "0.09750000000000003\n",
      "0.5975\n"
     ]
    }
   ],
   "source": [
    "t = [0, 0, 1, 0, 0, 0, 0, 0, 0, 0]\n",
    "y1 = [0.1, 0.05, 0.6, 0.0, 0.05, 0.1, 0.0, 0.1, 0.0, 0.0]\n",
    "y2 = [0.1, 0.05, 0.1, 0.0, 0.05, 0.1, 0.0, 0.6, 0.0, 0.0]\n",
    "\n",
    "result1 = mean_squared_error(np.array(y1), np.array(t))\n",
    "print(result1)\n",
    "result2 = mean_squared_error(np.array(y2), np.array(t))\n",
    "print(result2)"
   ]
  },
  {
   "cell_type": "code",
   "execution_count": 54,
   "metadata": {},
   "outputs": [],
   "source": [
    "import numpy as np\n",
    "\n",
    "# 交差エントロピー誤差\n",
    "\n",
    "\n",
    "def cross_entropy_error(y, t):\n",
    "    delta = 1e-7\n",
    "    return -np.sum(t * np.log(y + delta))"
   ]
  },
  {
   "cell_type": "code",
   "execution_count": 55,
   "metadata": {},
   "outputs": [
    {
     "name": "stdout",
     "output_type": "stream",
     "text": [
      "0.510825457099338\n",
      "2.302584092994546\n"
     ]
    }
   ],
   "source": [
    "t = [0, 0, 1, 0, 0, 0, 0, 0, 0, 0]\n",
    "y = [0.1, 0.05, 0.6, 0.0, 0.05, 0.1, 0.0, 0.1, 0.0, 0.0]\n",
    "result = cross_entropy_error(np.array(y), np.array(t))\n",
    "print(result)\n",
    "\n",
    "y = [0.1, 0.05, 0.1, 0.0, 0.05, 0.1, 0.0, 0.6, 0.0, 0.0]\n",
    "result = cross_entropy_error(np.array(y), np.array(t))\n",
    "print(result)"
   ]
  },
  {
   "cell_type": "markdown",
   "metadata": {},
   "source": [
    "# ミニバッチ学習"
   ]
  },
  {
   "cell_type": "code",
   "execution_count": 56,
   "metadata": {},
   "outputs": [
    {
     "name": "stdout",
     "output_type": "stream",
     "text": [
      "(60000, 784)\n",
      "(60000, 10)\n",
      "[43632  4308 31218 57651 38663 57113 33706  7159  6907 33590]\n",
      "[[0. 0. 0. ... 0. 0. 0.]\n",
      " [0. 0. 0. ... 0. 0. 0.]\n",
      " [0. 0. 0. ... 0. 0. 0.]\n",
      " ...\n",
      " [0. 0. 0. ... 0. 0. 0.]\n",
      " [0. 0. 0. ... 0. 0. 0.]\n",
      " [0. 0. 0. ... 0. 0. 0.]]\n",
      "[[0. 0. 1. 0. 0. 0. 0. 0. 0. 0.]\n",
      " [0. 0. 0. 0. 0. 0. 0. 0. 1. 0.]\n",
      " [0. 0. 0. 0. 0. 0. 0. 0. 0. 1.]\n",
      " [0. 0. 0. 1. 0. 0. 0. 0. 0. 0.]\n",
      " [1. 0. 0. 0. 0. 0. 0. 0. 0. 0.]\n",
      " [0. 0. 1. 0. 0. 0. 0. 0. 0. 0.]\n",
      " [0. 1. 0. 0. 0. 0. 0. 0. 0. 0.]\n",
      " [0. 0. 0. 0. 0. 1. 0. 0. 0. 0.]\n",
      " [0. 0. 0. 0. 0. 0. 1. 0. 0. 0.]\n",
      " [0. 0. 0. 1. 0. 0. 0. 0. 0. 0.]]\n"
     ]
    }
   ],
   "source": [
    "import sys, os\n",
    "\n",
    "sys.path.append(os.pardir)\n",
    "import numpy as np\n",
    "from dataset.mnist import load_mnist\n",
    "\n",
    "(x_train, t_train), (x_test, t_test) = load_mnist(normalize=True, one_hot_label=True)\n",
    "\n",
    "print(x_train.shape)\n",
    "print(t_train.shape)\n",
    "\n",
    "# 無作為抽出\n",
    "train_size = x_train.shape[0]  # 60000\n",
    "batch_size = 10\n",
    "batch_mask = np.random.choice(\n",
    "    train_size, batch_size\n",
    ")  # 0~59999の中からランダムに10個の数字を抽出\n",
    "print(batch_mask)\n",
    "x_batch = x_train[batch_mask]\n",
    "t_batch = t_train[batch_mask]\n",
    "print(x_batch)\n",
    "print(t_batch)"
   ]
  },
  {
   "cell_type": "code",
   "execution_count": 57,
   "metadata": {},
   "outputs": [],
   "source": [
    "# バッチ処理対応版 交差エントロピー誤差\n",
    "\n",
    "\n",
    "def cross_entropy_error(y, t):\n",
    "    if y.ndim == 1:\n",
    "        t = t.reshape(1, t.size)\n",
    "        y = y.reshape(1, y.size)\n",
    "    batch_size = y.shape[0]\n",
    "    return -np.sum(t * np.log(y + 1e-7)) / batch_size"
   ]
  },
  {
   "cell_type": "markdown",
   "metadata": {},
   "source": [
    "# 数値微分"
   ]
  },
  {
   "cell_type": "code",
   "execution_count": 58,
   "metadata": {},
   "outputs": [],
   "source": [
    "# 数値微分\n",
    "\n",
    "\n",
    "def numerical_diff(f, x):\n",
    "    h = 1e-4\n",
    "    return (f(x + h) - f(x - h)) / (2 * h)"
   ]
  },
  {
   "cell_type": "code",
   "execution_count": 59,
   "metadata": {},
   "outputs": [
    {
     "data": {
      "image/png": "[encoded data removed]",
      "text/plain": [
       "<Figure size 640x480 with 1 Axes>"
      ]
     },
     "metadata": {},
     "output_type": "display_data"
    }
   ],
   "source": [
    "import matplotlib.pylab as plt\n",
    "import numpy as np\n",
    "\n",
    "\n",
    "def function_1(x):\n",
    "    return 0.01 * x**2 + 0.1 * x\n",
    "\n",
    "\n",
    "x = np.arange(0.0, 20.0, 0.1)  # 0 ~ 20.0まで、0.1刻みのx配列\n",
    "y = function_1(x)\n",
    "plt.plot(x, y)\n",
    "plt.xlabel(\"x\")\n",
    "plt.ylabel(\"f(x)\")\n",
    "plt.show()"
   ]
  },
  {
   "cell_type": "code",
   "execution_count": 60,
   "metadata": {},
   "outputs": [
    {
     "name": "stdout",
     "output_type": "stream",
     "text": [
      "0.1999999999990898\n",
      "0.2999999999986347\n"
     ]
    }
   ],
   "source": [
    "result = numerical_diff(function_1, 5)\n",
    "print(result)\n",
    "result = numerical_diff(function_1, 10)\n",
    "print(result)"
   ]
  },
  {
   "cell_type": "code",
   "execution_count": 61,
   "metadata": {},
   "outputs": [
    {
     "name": "stdout",
     "output_type": "stream",
     "text": [
      "0.1999999999990898\n"
     ]
    },
    {
     "data": {
      "image/png": "[encoded data removed]",
      "text/plain": [
       "<Figure size 640x480 with 1 Axes>"
      ]
     },
     "metadata": {},
     "output_type": "display_data"
    }
   ],
   "source": [
    "# coding: utf-8\n",
    "import numpy as np\n",
    "import matplotlib.pylab as plt\n",
    "\n",
    "\n",
    "def numerical_diff(f, x):\n",
    "    h = 1e-4  # 0.0001\n",
    "    return (f(x + h) - f(x - h)) / (2 * h)\n",
    "\n",
    "\n",
    "def function_1(x):\n",
    "    return 0.01 * x**2 + 0.1 * x\n",
    "\n",
    "\n",
    "def tangent_line(f, x):\n",
    "    d = numerical_diff(f, x)\n",
    "    print(d)\n",
    "    y = f(x) - d * x\n",
    "    return lambda t: d * t + y\n",
    "\n",
    "\n",
    "x = np.arange(0.0, 20.0, 0.1)\n",
    "y = function_1(x)\n",
    "plt.xlabel(\"x\")\n",
    "plt.ylabel(\"f(x)\")\n",
    "\n",
    "tf = tangent_line(function_1, 5)\n",
    "y2 = tf(x)\n",
    "\n",
    "plt.plot(x, y)\n",
    "plt.plot(x, y2)\n",
    "plt.show()"
   ]
  },
  {
   "cell_type": "markdown",
   "metadata": {},
   "source": [
    "# 偏微分\n",
    "\n",
    "ある式\n",
    "\n",
    "$$f(x_0,x_1) = x_0^2 + x_1^2$$ "
   ]
  },
  {
   "cell_type": "code",
   "execution_count": 62,
   "metadata": {},
   "outputs": [],
   "source": [
    "# ある式\n",
    "\n",
    "\n",
    "def function_2(x):\n",
    "    return x[0] ** 2 + x[1] ** 2"
   ]
  },
  {
   "cell_type": "code",
   "execution_count": 63,
   "metadata": {},
   "outputs": [
    {
     "name": "stdout",
     "output_type": "stream",
     "text": [
      "6.00000000000378\n",
      "7.999999999999119\n"
     ]
    }
   ],
   "source": [
    "def function_tmp1(x0):\n",
    "    return x0 * x0 + 4.0**2.0\n",
    "\n",
    "\n",
    "result = numerical_diff(function_tmp1, 3.0)\n",
    "print(result)\n",
    "\n",
    "\n",
    "def function_tmp2(x1):\n",
    "    return 3.0**2.0 + x1 * x1\n",
    "\n",
    "\n",
    "result = numerical_diff(function_tmp2, 4.0)\n",
    "print(result)"
   ]
  },
  {
   "cell_type": "code",
   "execution_count": 64,
   "metadata": {},
   "outputs": [],
   "source": [
    "# 勾配\n",
    "\n",
    "\n",
    "def numerical_gradient(f, x):\n",
    "    h = 1e-4\n",
    "    grad = np.zeros_like(x)  # xと同じ形状の配列を生成\n",
    "\n",
    "    for idx in range(x.size):\n",
    "        tmp_val = x[idx]\n",
    "        # f(x+h)の計算\n",
    "        x[idx] = tmp_val + h\n",
    "        fxh1 = f(x)\n",
    "\n",
    "        # f(x-h)の計算\n",
    "        x[idx] = tmp_val - h\n",
    "        fxh2 = f(x)\n",
    "\n",
    "        grad[idx] = (fxh1 - fxh2) / (2 * h)\n",
    "        x[idx] = tmp_val  # 値を元に戻す\n",
    "\n",
    "    return grad"
   ]
  },
  {
   "cell_type": "code",
   "execution_count": 65,
   "metadata": {},
   "outputs": [
    {
     "data": {
      "text/plain": [
       "array([6., 8.])"
      ]
     },
     "execution_count": 65,
     "metadata": {},
     "output_type": "execute_result"
    }
   ],
   "source": [
    "numerical_gradient(function_2, np.array([3.0, 4.0]))"
   ]
  },
  {
   "cell_type": "code",
   "execution_count": 66,
   "metadata": {},
   "outputs": [
    {
     "data": {
      "image/png": "[encoded data removed]",
      "text/plain": [
       "<Figure size 640x480 with 1 Axes>"
      ]
     },
     "metadata": {},
     "output_type": "display_data"
    }
   ],
   "source": [
    "# 勾配の可視化\n",
    "# coding: utf-8\n",
    "# cf.http://d.hatena.ne.jp/white_wheels/20100327/p3\n",
    "import numpy as np\n",
    "import matplotlib.pylab as plt\n",
    "from mpl_toolkits.mplot3d import Axes3D\n",
    "\n",
    "\n",
    "def _numerical_gradient_no_batch(f, x):\n",
    "    h = 1e-4  # 0.0001\n",
    "    grad = np.zeros_like(x)\n",
    "\n",
    "    for idx in range(x.size):\n",
    "        tmp_val = x[idx]\n",
    "        x[idx] = float(tmp_val) + h\n",
    "        fxh1 = f(x)  # f(x+h)\n",
    "\n",
    "        x[idx] = tmp_val - h\n",
    "        fxh2 = f(x)  # f(x-h)\n",
    "        grad[idx] = (fxh1 - fxh2) / (2 * h)\n",
    "\n",
    "        x[idx] = tmp_val  # 値を元に戻す\n",
    "\n",
    "    return grad\n",
    "\n",
    "\n",
    "def numerical_gradient(f, X):\n",
    "    if X.ndim == 1:\n",
    "        return _numerical_gradient_no_batch(f, X)\n",
    "    else:\n",
    "        grad = np.zeros_like(X)\n",
    "\n",
    "        for idx, x in enumerate(X):\n",
    "            grad[idx] = _numerical_gradient_no_batch(f, x)\n",
    "\n",
    "        return grad\n",
    "\n",
    "\n",
    "def function_2(x):\n",
    "    if x.ndim == 1:\n",
    "        return np.sum(x**2)\n",
    "    else:\n",
    "        return np.sum(x**2, axis=1)\n",
    "\n",
    "\n",
    "def tangent_line(f, x):\n",
    "    d = numerical_gradient(f, x)\n",
    "    print(d)\n",
    "    y = f(x) - d * x\n",
    "    return lambda t: d * t + y\n",
    "\n",
    "\n",
    "if __name__ == \"__main__\":\n",
    "    x0 = np.arange(-2, 2.5, 0.25)\n",
    "    x1 = np.arange(-2, 2.5, 0.25)\n",
    "    X, Y = np.meshgrid(x0, x1)\n",
    "\n",
    "    X = X.flatten()\n",
    "    Y = Y.flatten()\n",
    "\n",
    "    grad = numerical_gradient(function_2, np.array([X, Y]).T).T\n",
    "\n",
    "    plt.figure()\n",
    "    plt.quiver(X, Y, -grad[0], -grad[1], angles=\"xy\", color=\"#666666\")\n",
    "    plt.xlim([-2, 2])\n",
    "    plt.ylim([-2, 2])\n",
    "    plt.xlabel(\"x0\")\n",
    "    plt.ylabel(\"x1\")\n",
    "    plt.grid()\n",
    "    plt.draw()\n",
    "    plt.show()"
   ]
  },
  {
   "cell_type": "markdown",
   "metadata": {},
   "source": [
    "- $f(x_0,x_1) = x_0^2 + x_1^2 $ の最小値を勾配法で求めよ"
   ]
  },
  {
   "cell_type": "code",
   "execution_count": 67,
   "metadata": {},
   "outputs": [
    {
     "name": "stdout",
     "output_type": "stream",
     "text": [
      "[-3.  4.]\n"
     ]
    },
    {
     "data": {
      "text/plain": [
       "array([-2.94,  3.92])"
      ]
     },
     "execution_count": 67,
     "metadata": {},
     "output_type": "execute_result"
    }
   ],
   "source": [
    "import numpy as np\n",
    "\n",
    "\n",
    "def gradient_descent(f, init_x, lr=0.01, step_num=100000):\n",
    "    x = init_x  # 初期位置\n",
    "\n",
    "    for i in range(step_num):\n",
    "        tmp = x\n",
    "        grad = numerical_gradient(f, x)\n",
    "        print(x)\n",
    "        x -= lr * grad\n",
    "        if (x == tmp).all():\n",
    "            return x\n",
    "\n",
    "    return x\n",
    "\n",
    "\n",
    "def function_2(x):\n",
    "    return x[0] ** 2 + x[1] ** 2\n",
    "\n",
    "\n",
    "init_x = np.array([-3.0, 4.0])  # 初期位置\n",
    "gradient_descent(function_2, init_x)"
   ]
  },
  {
   "cell_type": "markdown",
   "metadata": {},
   "source": [
    "# ニューラルネットワークに対する勾配\n",
    "\n",
    "$\n",
    "W = \n",
    "\\begin{pmatrix}\n",
    "w_{11} & w_{12} & w_{13} \\\\\n",
    "w_{21} & w_{22} & w_{23} \\\\\n",
    "\\end{pmatrix}\n",
    "$\n",
    "\n",
    "\n",
    "$\n",
    "\\dfrac{\\delta L}{\\delta W} = \n",
    "\\begin{pmatrix}\n",
    "\\frac{\\delta L}{\\delta w_{11}} & \\frac{\\delta L}{\\delta w_{12}} & \\frac{\\delta L}{\\delta w_{13}} \\\\\n",
    "\\frac{\\delta L}{\\delta w_{21}} & \\frac{\\delta L}{\\delta w_{22}} & \\frac{\\delta L}{\\delta w_{23}} \\\\\n",
    "\\end{pmatrix}\n",
    "$\n",
    "\n",
    "例えば、形状が2x3の重みWだけを持つニューラルネットワークがあり、損失関数をLで表す場合を考えよう。\n",
    "この場合、勾配は $\\frac{\\delta L}{\\delta W}$ と表すことができる。実際に数式で表すと、上式のようになる。"
   ]
  },
  {
   "cell_type": "code",
   "execution_count": 68,
   "metadata": {},
   "outputs": [],
   "source": [
    "import sys, os\n",
    "\n",
    "sys.path.append(os.pardir)\n",
    "import numpy as np\n",
    "from common.functions import softmax, cross_entropy_error\n",
    "from common.gradient import numerical_gradient\n",
    "\n",
    "\n",
    "class simpleNet:\n",
    "    def __init__(self):\n",
    "        self.W = np.random.randn(2, 3)  # ガウス分布で初期化\n",
    "\n",
    "    def predict(self, x):\n",
    "        \"\"\"予測結果を返す\"\"\"\n",
    "        return np.dot(x, self.W)\n",
    "\n",
    "    def loss(self, x, t):\n",
    "        \"\"\"損失関数の計算結果を求める\"\"\"\n",
    "        z = self.predict(x)\n",
    "        y = softmax(z)\n",
    "        loss = cross_entropy_error(y, t)  # 損失関数による値\n",
    "\n",
    "        return loss"
   ]
  },
  {
   "cell_type": "code",
   "execution_count": 69,
   "metadata": {},
   "outputs": [
    {
     "name": "stdout",
     "output_type": "stream",
     "text": [
      "[[-0.3283766   0.31240101  1.44864738]\n",
      " [ 0.33308484  0.31948234  0.3030207 ]]\n"
     ]
    }
   ],
   "source": [
    "net = simpleNet()\n",
    "print(net.W)  # 重みパラメータ -> __init__にてガウス分布で初期化済みの値"
   ]
  },
  {
   "cell_type": "code",
   "execution_count": 70,
   "metadata": {},
   "outputs": [
    {
     "name": "stdout",
     "output_type": "stream",
     "text": [
      "[0.1027504  0.47497471 1.14190705]\n"
     ]
    }
   ],
   "source": [
    "x = np.array([0.6, 0.9])\n",
    "p = net.predict(x)\n",
    "print(p)"
   ]
  },
  {
   "cell_type": "code",
   "execution_count": 71,
   "metadata": {},
   "outputs": [
    {
     "data": {
      "text/plain": [
       "0.6243506882930291"
      ]
     },
     "execution_count": 71,
     "metadata": {},
     "output_type": "execute_result"
    }
   ],
   "source": [
    "t = np.array([0, 0, 1])  # 正解ラベル(one-hot表現)\n",
    "net.loss(x, t)"
   ]
  },
  {
   "cell_type": "code",
   "execution_count": 72,
   "metadata": {},
   "outputs": [
    {
     "name": "stdout",
     "output_type": "stream",
     "text": [
      "[[ 0.11368392  0.16495064 -0.27863455]\n",
      " [ 0.17052587  0.24742595 -0.41795183]]\n"
     ]
    }
   ],
   "source": [
    "def f(W):\n",
    "    return net.loss(x, t)\n",
    "\n",
    "\n",
    "dW = numerical_gradient(f, net.W)\n",
    "print(dW)"
   ]
  },
  {
   "cell_type": "markdown",
   "metadata": {},
   "source": [
    "# 学習アルゴリズムの実装(総まとめ)\n",
    "\n",
    "## 前提\n",
    "- 学習 : 重みとバイアスを訓練データに適用するように調整することを学習という。\n",
    "- ニューラルネットワークの学習は次の4つの手順で行う\n",
    "\n",
    "    1. ミニバッチ\n",
    "    \n",
    "        訓練データの中からランダムに一部のデータを選び出す。\n",
    "        その選ばれたデータをミニバッチといい、ここではそのミニバッチの損失関数の値を減らすことを目的とする。\n",
    "\n",
    "    1. 勾配の算出\n",
    "\n",
    "        ミニバッチの損失関数を減らすために、各重みパラメータの勾配を求める。\n",
    "        勾配は、損失関数の値を最も減らす方向を示す。\n",
    "\n",
    "    1. パラメータの更新\n",
    "\n",
    "        重みパラメータを勾配方向に微小量だけ更新する\n",
    "\n",
    "    1. 繰り返す\n",
    "\n",
    "        1,2,3のステップを繰り返します。"
   ]
  },
  {
   "cell_type": "markdown",
   "metadata": {},
   "source": [
    "# 2層ニューラルネットワークを一つのクラスとして実装する"
   ]
  },
  {
   "cell_type": "code",
   "execution_count": 73,
   "metadata": {},
   "outputs": [],
   "source": [
    "import sys, os\n",
    "\n",
    "sys.path.append(os.pardir)\n",
    "from common.functions import *\n",
    "from common.gradient import numerical_gradient\n",
    "\n",
    "\n",
    "class TwoLayerNet:\n",
    "    def __init__(self, input_size, hidden_size, output_size, weight_init_std=0.01):\n",
    "        # 重みの初期化\n",
    "        self.params = {}\n",
    "        self.params[\"W1\"] = weight_init_std * np.random.randn(input_size, hidden_size)\n",
    "        self.params[\"b1\"] = np.zeros(hidden_size)\n",
    "        self.params[\"W2\"] = weight_init_std * np.random.randn(hidden_size, output_size)\n",
    "        self.params[\"b2\"] = np.zeros(output_size)\n",
    "\n",
    "    def predict(self, x):\n",
    "        W1, W2 = self.params[\"W1\"], self.params[\"W2\"]\n",
    "        b1, b2 = self.params[\"b1\"], self.params[\"b2\"]\n",
    "\n",
    "        a1 = np.dot(x, W1) + b1\n",
    "        z1 = sigmoid(a1)\n",
    "        a2 = np.dot(z1, W2) + b2\n",
    "        y = softmax(a2)\n",
    "\n",
    "        return y\n",
    "\n",
    "    # x:入力データ, y:教師データ\n",
    "    def loss(self, x, t):\n",
    "        \"\"\"損失関数の値を返す関数\"\"\"\n",
    "        y = self.predict(x)\n",
    "        return cross_entropy_error(y, t)\n",
    "\n",
    "    def accuracy(self, x, t):\n",
    "        y = self.predict(x)\n",
    "        y = np.argmax(y, axis=1)\n",
    "        t = np.argmax(t, axis=1)\n",
    "\n",
    "        accuracy = np.sum(y == t) / float(x.shape[0])\n",
    "        return accuracy\n",
    "\n",
    "    # x:入力データ, t:教師データ\n",
    "    def numerical_gradient(self, x, t):\n",
    "        loss_W = lambda W: self.loss(x, t)\n",
    "\n",
    "        grads = {}  # 勾配\n",
    "\n",
    "        grads[\"W1\"] = numerical_gradient(loss_W, self.params[\"W1\"])\n",
    "        grads[\"b1\"] = numerical_gradient(loss_W, self.params[\"b1\"])\n",
    "        grads[\"W2\"] = numerical_gradient(loss_W, self.params[\"W2\"])\n",
    "        grads[\"b2\"] = numerical_gradient(loss_W, self.params[\"b2\"])\n",
    "\n",
    "        return grads"
   ]
  },
  {
   "cell_type": "code",
   "execution_count": 74,
   "metadata": {},
   "outputs": [
    {
     "name": "stdout",
     "output_type": "stream",
     "text": [
      "(784, 100)\n",
      "(100,)\n",
      "(100, 10)\n"
     ]
    }
   ],
   "source": [
    "net = TwoLayerNet(\n",
    "    input_size=784, hidden_size=100, output_size=10\n",
    ")  # 入力層784,隠れ層100,出力層10\n",
    "result = net.params[\"W1\"].shape  # (784, 100)\n",
    "print(result)\n",
    "result = net.params[\"b1\"].shape\n",
    "print(result)\n",
    "result = net.params[\"W2\"].shape\n",
    "print(result)\n",
    "result = net.params[\"b2\"].shape"
   ]
  },
  {
   "cell_type": "markdown",
   "metadata": {},
   "source": [
    "# ミニバッチ学習"
   ]
  },
  {
   "cell_type": "code",
   "execution_count": 79,
   "metadata": {},
   "outputs": [
    {
     "name": "stdout",
     "output_type": "stream",
     "text": [
      "CPU times: user 2 μs, sys: 0 ns, total: 2 μs\n",
      "Wall time: 3.1 μs\n",
      "train acc, test acc | 0.09915, 0.1009\n",
      "train acc, test acc | 0.7863833333333333, 0.7896\n",
      "train acc, test acc | 0.8753166666666666, 0.8784\n",
      "train acc, test acc | 0.8968, 0.8997\n",
      "train acc, test acc | 0.90715, 0.9105\n",
      "train acc, test acc | 0.9127166666666666, 0.9152\n",
      "train acc, test acc | 0.9187333333333333, 0.9196\n",
      "train acc, test acc | 0.9234666666666667, 0.925\n",
      "train acc, test acc | 0.9275333333333333, 0.9289\n",
      "train acc, test acc | 0.9302, 0.9301\n",
      "train acc, test acc | 0.9327333333333333, 0.934\n",
      "train acc, test acc | 0.93655, 0.9366\n",
      "train acc, test acc | 0.9379833333333333, 0.9384\n",
      "train acc, test acc | 0.9419, 0.9397\n",
      "train acc, test acc | 0.9433833333333334, 0.9414\n",
      "train acc, test acc | 0.9452666666666667, 0.9439\n",
      "train acc, test acc | 0.94725, 0.9463\n",
      "train acc, test acc | 0.9488166666666666, 0.9483\n",
      "train acc, test acc | 0.9497833333333333, 0.9485\n",
      "train acc, test acc | 0.9514333333333334, 0.9497\n",
      "train acc, test acc | 0.9525666666666667, 0.9506\n",
      "train acc, test acc | 0.9541666666666667, 0.9512\n",
      "train acc, test acc | 0.95535, 0.9531\n",
      "train acc, test acc | 0.95625, 0.954\n",
      "train acc, test acc | 0.95745, 0.9551\n",
      "train acc, test acc | 0.9585666666666667, 0.9556\n",
      "train acc, test acc | 0.9594333333333334, 0.9551\n",
      "train acc, test acc | 0.9601833333333334, 0.9558\n",
      "train acc, test acc | 0.9612666666666667, 0.9573\n",
      "train acc, test acc | 0.96245, 0.9583\n",
      "train acc, test acc | 0.9629166666666666, 0.9583\n",
      "train acc, test acc | 0.9635166666666667, 0.9596\n",
      "train acc, test acc | 0.9645333333333334, 0.9599\n",
      "train acc, test acc | 0.9652166666666666, 0.9604\n",
      "train acc, test acc | 0.9659166666666666, 0.9617\n",
      "train acc, test acc | 0.9661166666666666, 0.9624\n",
      "train acc, test acc | 0.9669166666666666, 0.9617\n",
      "train acc, test acc | 0.9677166666666667, 0.9619\n",
      "train acc, test acc | 0.96875, 0.9629\n",
      "train acc, test acc | 0.9688166666666667, 0.9636\n",
      "train acc, test acc | 0.9694166666666667, 0.9636\n",
      "train acc, test acc | 0.9698833333333333, 0.964\n",
      "train acc, test acc | 0.9703333333333334, 0.9637\n",
      "train acc, test acc | 0.9707, 0.9642\n",
      "train acc, test acc | 0.9712, 0.9642\n",
      "train acc, test acc | 0.9716166666666667, 0.9655\n",
      "train acc, test acc | 0.97215, 0.9653\n",
      "train acc, test acc | 0.9723333333333334, 0.9654\n",
      "train acc, test acc | 0.9726333333333333, 0.9656\n",
      "train acc, test acc | 0.9731666666666666, 0.9666\n",
      "train acc, test acc | 0.9735666666666667, 0.9664\n",
      "train acc, test acc | 0.9741333333333333, 0.9669\n",
      "train acc, test acc | 0.9745166666666667, 0.9673\n",
      "train acc, test acc | 0.9743666666666667, 0.9665\n",
      "train acc, test acc | 0.9750333333333333, 0.9685\n",
      "train acc, test acc | 0.9752666666666666, 0.9675\n",
      "train acc, test acc | 0.9756833333333333, 0.9684\n",
      "train acc, test acc | 0.9759333333333333, 0.9686\n",
      "train acc, test acc | 0.9763833333333334, 0.9693\n",
      "train acc, test acc | 0.9769, 0.9694\n",
      "train acc, test acc | 0.9767, 0.9689\n",
      "train acc, test acc | 0.97735, 0.9694\n",
      "train acc, test acc | 0.9779166666666667, 0.9702\n",
      "train acc, test acc | 0.97775, 0.9694\n",
      "train acc, test acc | 0.9780166666666666, 0.97\n",
      "train acc, test acc | 0.9780333333333333, 0.9706\n",
      "train acc, test acc | 0.9786166666666667, 0.9702\n",
      "train acc, test acc | 0.9786333333333334, 0.9706\n",
      "train acc, test acc | 0.9792833333333333, 0.9702\n",
      "train acc, test acc | 0.9796, 0.9708\n",
      "train acc, test acc | 0.9797666666666667, 0.9714\n",
      "train acc, test acc | 0.9801833333333333, 0.9714\n",
      "train acc, test acc | 0.9802666666666666, 0.9713\n",
      "train acc, test acc | 0.9807666666666667, 0.9721\n",
      "train acc, test acc | 0.9809, 0.9714\n",
      "train acc, test acc | 0.9810166666666666, 0.9724\n",
      "train acc, test acc | 0.9810666666666666, 0.972\n",
      "train acc, test acc | 0.9813833333333334, 0.9721\n",
      "train acc, test acc | 0.9815166666666667, 0.9723\n",
      "train acc, test acc | 0.9820833333333333, 0.9728\n",
      "train acc, test acc | 0.9823, 0.9727\n",
      "train acc, test acc | 0.9823166666666666, 0.9733\n",
      "train acc, test acc | 0.98245, 0.973\n",
      "train acc, test acc | 0.98275, 0.9728\n",
      "train acc, test acc | 0.9827666666666667, 0.9733\n",
      "train acc, test acc | 0.9830833333333333, 0.973\n",
      "train acc, test acc | 0.9832666666666666, 0.9732\n",
      "train acc, test acc | 0.9830666666666666, 0.9728\n",
      "train acc, test acc | 0.98335, 0.9735\n",
      "train acc, test acc | 0.9838166666666667, 0.9736\n",
      "train acc, test acc | 0.9837333333333333, 0.9733\n",
      "train acc, test acc | 0.98415, 0.9732\n",
      "train acc, test acc | 0.9844333333333334, 0.9734\n",
      "train acc, test acc | 0.9843, 0.9736\n",
      "train acc, test acc | 0.9848666666666667, 0.9735\n",
      "train acc, test acc | 0.9848666666666667, 0.9739\n",
      "train acc, test acc | 0.98515, 0.9742\n",
      "train acc, test acc | 0.9851666666666666, 0.9735\n",
      "train acc, test acc | 0.9855, 0.9738\n",
      "train acc, test acc | 0.985, 0.9741\n",
      "train acc, test acc | 0.9856, 0.9739\n",
      "train acc, test acc | 0.9859, 0.9743\n",
      "train acc, test acc | 0.9860166666666667, 0.9739\n",
      "train acc, test acc | 0.9863, 0.9739\n",
      "train acc, test acc | 0.9861166666666666, 0.974\n",
      "train acc, test acc | 0.98645, 0.9743\n",
      "train acc, test acc | 0.9868666666666667, 0.9739\n",
      "train acc, test acc | 0.98655, 0.9733\n",
      "train acc, test acc | 0.9866666666666667, 0.9741\n",
      "train acc, test acc | 0.9868166666666667, 0.9738\n",
      "train acc, test acc | 0.9871833333333333, 0.974\n",
      "train acc, test acc | 0.98725, 0.9738\n",
      "train acc, test acc | 0.987, 0.9738\n",
      "train acc, test acc | 0.9871166666666666, 0.9742\n",
      "train acc, test acc | 0.9877333333333334, 0.974\n",
      "train acc, test acc | 0.98785, 0.974\n",
      "train acc, test acc | 0.98825, 0.9735\n",
      "train acc, test acc | 0.9875333333333334, 0.9737\n",
      "train acc, test acc | 0.98765, 0.9742\n",
      "train acc, test acc | 0.9883, 0.9738\n",
      "train acc, test acc | 0.9882333333333333, 0.9737\n",
      "train acc, test acc | 0.9883666666666666, 0.9742\n",
      "train acc, test acc | 0.9888166666666667, 0.974\n",
      "train acc, test acc | 0.9885, 0.9745\n",
      "train acc, test acc | 0.9884833333333334, 0.9748\n",
      "train acc, test acc | 0.9887, 0.9749\n",
      "train acc, test acc | 0.9886666666666667, 0.9749\n",
      "train acc, test acc | 0.9890833333333333, 0.9742\n",
      "train acc, test acc | 0.9891666666666666, 0.9743\n",
      "train acc, test acc | 0.9895666666666667, 0.9745\n",
      "train acc, test acc | 0.9893333333333333, 0.9741\n",
      "train acc, test acc | 0.9895833333333334, 0.9741\n",
      "train acc, test acc | 0.9896333333333334, 0.9741\n",
      "train acc, test acc | 0.9896666666666667, 0.9743\n",
      "train acc, test acc | 0.9900166666666667, 0.9743\n",
      "train acc, test acc | 0.98975, 0.9741\n",
      "train acc, test acc | 0.9899333333333333, 0.9745\n",
      "train acc, test acc | 0.99015, 0.9745\n",
      "train acc, test acc | 0.9900333333333333, 0.9752\n",
      "train acc, test acc | 0.9904833333333334, 0.9755\n",
      "train acc, test acc | 0.9902833333333333, 0.9745\n",
      "train acc, test acc | 0.9905833333333334, 0.9742\n",
      "train acc, test acc | 0.9906, 0.9744\n",
      "train acc, test acc | 0.99055, 0.9743\n",
      "train acc, test acc | 0.9909666666666667, 0.9745\n",
      "train acc, test acc | 0.99075, 0.9742\n",
      "train acc, test acc | 0.9908, 0.9742\n",
      "train acc, test acc | 0.9910833333333333, 0.9753\n",
      "train acc, test acc | 0.9912833333333333, 0.9746\n",
      "train acc, test acc | 0.9909666666666667, 0.9743\n",
      "train acc, test acc | 0.9913, 0.9741\n",
      "train acc, test acc | 0.9910333333333333, 0.9744\n",
      "train acc, test acc | 0.9911166666666666, 0.9742\n",
      "train acc, test acc | 0.9912666666666666, 0.9748\n",
      "train acc, test acc | 0.9914333333333334, 0.9747\n",
      "train acc, test acc | 0.9914333333333334, 0.974\n",
      "train acc, test acc | 0.9916333333333334, 0.9745\n",
      "train acc, test acc | 0.9918666666666667, 0.9744\n",
      "train acc, test acc | 0.9919666666666667, 0.9744\n",
      "train acc, test acc | 0.9919666666666667, 0.9747\n",
      "train acc, test acc | 0.9919166666666667, 0.9749\n",
      "train acc, test acc | 0.9921833333333333, 0.9748\n",
      "train acc, test acc | 0.9924333333333333, 0.9745\n",
      "train acc, test acc | 0.9923666666666666, 0.9743\n",
      "train acc, test acc | 0.9925166666666667, 0.9739\n",
      "train acc, test acc | 0.99255, 0.9744\n",
      "train acc, test acc | 0.9927666666666667, 0.9748\n"
     ]
    },
    {
     "data": {
      "image/png": "[encoded data removed]",
      "text/plain": [
       "<Figure size 640x480 with 1 Axes>"
      ]
     },
     "metadata": {},
     "output_type": "display_data"
    }
   ],
   "source": [
    "%time\n",
    "import sys,os\n",
    "sys.path.append(os.pardir)\n",
    "import numpy as np\n",
    "import matplotlib.pyplot as plt\n",
    "from dataset.mnist import load_mnist\n",
    "from two_layer_net import TwoLayerNet\n",
    "\n",
    "# データの読み込み\n",
    "(x_train,t_train),(x_test,t_test) = load_mnist(normalize=True,one_hot_label=True)\n",
    "\n",
    "network = TwoLayerNet(input_size=784,hidden_size=50,output_size=10)\n",
    "\n",
    "iters_num = 100000\n",
    "train_size = x_train.shape[0] # 60000\n",
    "batch_size = 100\n",
    "learning_rate = 0.1\n",
    "\n",
    "train_loss_list = []\n",
    "train_acc_list = []\n",
    "test_acc_list = []\n",
    "\n",
    "# 何回のイテレーションで1エポックとなるか\n",
    "iter_per_epoch = max(train_size / batch_size,1) # 最低でも1になるようにしている\n",
    "\n",
    "for i in range(iters_num):\n",
    "    batch_mask = np.random.choice(train_size,batch_size)\n",
    "    x_batch = x_train[batch_mask]\n",
    "    t_batch = t_train[batch_mask]\n",
    "\n",
    "    # 勾配計算\n",
    "    # grad = network.numerical_gradient(x_batch,t_batch)\n",
    "    grad = network.gradient(x_batch,t_batch) # 高速版！\n",
    "\n",
    "    # パラメータの更新\n",
    "    for key in ('W1','b1','W2','b2'):\n",
    "        network.params[key] -= learning_rate * grad[key]\n",
    "\n",
    "    loss = network.loss(x_batch,t_batch)\n",
    "    train_loss_list.append(loss)\n",
    "\n",
    "    # エポック\n",
    "    if i % iter_per_epoch == 0:\n",
    "        train_acc = network.accuracy(x_train, t_train)\n",
    "        test_acc = network.accuracy(x_test,t_test)\n",
    "        train_acc_list.append(train_acc)\n",
    "        test_acc_list.append(test_acc)\n",
    "        # 1エポックごとにモデルの精度を抽出\n",
    "        print(\"train acc, test acc | \" + str(train_acc) + \", \" + str(test_acc)) \n",
    "\n",
    "\n",
    "# グラフの描画\n",
    "markers = {'train':\"o\",'test':'s'}\n",
    "x = np.arange(len(train_acc_list))\n",
    "plt.plot(x,train_acc_list,label=\"train acc\")\n",
    "plt.plot(x,test_acc_list,label=\"test acc\",linestyle='--')\n",
    "plt.xlabel('epochs')\n",
    "plt.ylabel('accuracy')\n",
    "plt.ylim(0,1.0)\n",
    "plt.legend(loc='lower right')\n",
    "plt.show()"
   ]
  }
 ],
 "metadata": {
  "kernelspec": {
   "display_name": "dezero",
   "language": "python",
   "name": "python3"
  },
  "language_info": {
   "codemirror_mode": {
    "name": "ipython",
    "version": 3
   },
   "file_extension": ".py",
   "mimetype": "text/x-python",
   "name": "python",
   "nbconvert_exporter": "python",
   "pygments_lexer": "ipython3",
   "version": "3.12.4"
  }
 },
 "nbformat": 4,
 "nbformat_minor": 2
}
